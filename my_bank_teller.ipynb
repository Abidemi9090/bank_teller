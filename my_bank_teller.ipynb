{
 "cells": [
  {
   "cell_type": "code",
   "execution_count": 1,
   "metadata": {},
   "outputs": [],
   "source": [
    "checking_balance = 0\n",
    "savings_balance = 0"
   ]
  },
  {
   "cell_type": "code",
   "execution_count": 2,
   "metadata": {},
   "outputs": [],
   "source": [
    "def check_balance(account_type, checking_balance, savings_balance):\n",
    "    if account_type == \"checking\":\n",
    "        balance = checking_balance\n",
    "    elif account_type == \"savings\":\n",
    "        balance = savings_balance\n",
    "    else:\n",
    "        return acc_error\n",
    "    balance_statement = \"Your \" + account_type + \" balance is \" + str(balance) + \".\\n\"\n",
    "    return balance_statement"
   ]
  },
  {
   "cell_type": "code",
   "execution_count": 3,
   "metadata": {},
   "outputs": [
    {
     "name": "stdout",
     "output_type": "stream",
     "text": [
      "Your checking balance is 0.\n",
      "\n"
     ]
    }
   ],
   "source": [
    "print(check_balance(\"checking\", checking_balance, savings_balance))"
   ]
  },
  {
   "cell_type": "code",
   "execution_count": 4,
   "metadata": {},
   "outputs": [
    {
     "name": "stdout",
     "output_type": "stream",
     "text": [
      "Your savings balance is 0.\n",
      "\n"
     ]
    }
   ],
   "source": [
    "print(check_balance(\"savings\", checking_balance, savings_balance))"
   ]
  },
  {
   "cell_type": "code",
   "execution_count": 5,
   "metadata": {},
   "outputs": [],
   "source": [
    "def make_deposit(account_type, amount, checking_balance, savings_balance):\n",
    "    deposit_status = \"\"\n",
    "    if amount > 0:\n",
    "        if account_type == \"savings\":\n",
    "            savings_balance += amount\n",
    "            deposit_status = \"successful\"\n",
    "        elif account_type == \"checking\":\n",
    "            checking_balance += amount\n",
    "            deposit_status = \"successful\"\n",
    "        else:\n",
    "            deposit_status = acc_err\n",
    "        \n",
    "    else:\n",
    "        \"unsuccessful, please enter an amount greater than 0\"\n",
    "    deposit_statement = \"Deposit of \" + str(amount) + \" to your \" + account_type + \" account was \" + deposit_status\n",
    "    \n",
    "    print(deposit_statement)\n",
    "    return savings_balance, checking_balance\n"
   ]
  },
  {
   "cell_type": "code",
   "execution_count": 6,
   "metadata": {},
   "outputs": [
    {
     "name": "stdout",
     "output_type": "stream",
     "text": [
      "Deposit of 10 to your savings account was successful\n"
     ]
    }
   ],
   "source": [
    "savings_balance, checking_balance = make_deposit(\"savings\", 10, checking_balance, savings_balance)"
   ]
  },
  {
   "cell_type": "code",
   "execution_count": 7,
   "metadata": {},
   "outputs": [
    {
     "name": "stdout",
     "output_type": "stream",
     "text": [
      "Your savings balance is 10.\n",
      "\n"
     ]
    }
   ],
   "source": [
    "print(check_balance(\"savings\", checking_balance, savings_balance))"
   ]
  },
  {
   "cell_type": "code",
   "execution_count": 8,
   "metadata": {},
   "outputs": [
    {
     "name": "stdout",
     "output_type": "stream",
     "text": [
      "Deposit of 200 to your checking account was successful\n"
     ]
    }
   ],
   "source": [
    "savings_balance, checking_balance = make_deposit(\"checking\", 200, checking_balance, savings_balance)"
   ]
  },
  {
   "cell_type": "code",
   "execution_count": 9,
   "metadata": {},
   "outputs": [
    {
     "name": "stdout",
     "output_type": "stream",
     "text": [
      "Your checking balance is 200.\n",
      "\n"
     ]
    }
   ],
   "source": [
    "print(check_balance(\"checking\",checking_balance, savings_balance))"
   ]
  },
  {
   "cell_type": "code",
   "execution_count": 10,
   "metadata": {},
   "outputs": [],
   "source": [
    "def make_withdrawal(account_type, amount, checking_balance, savings_balance):\n",
    "    withdrawal_status = \"\"\n",
    "    fail = \"unsuccessful, please enter amount less than balance\"\n",
    "    if account_type == \"savings\":\n",
    "        if amount <=savings_balance:\n",
    "            savings_balance -= amount\n",
    "            withdrawal_status = \"successful\"\n",
    "        else:\n",
    "            withdrawal_status = fail\n",
    "        \n",
    "    elif account_type == \"checking\":\n",
    "        if amount <=checking_balance:\n",
    "            checking_balance -= amount\n",
    "            withdrawal_status = \"successful\"\n",
    "        else:\n",
    "            withdrawal_status = fail\n",
    "    else:\n",
    "        withdrawal_status = acc_err\n",
    "    withdrawal_statement = \"Withdrawal of \" +str(amount)+ \" from your \"+account_type+ \" was \" +withdrawal_status+\".\"\n",
    "    print(withdrawal_statement)\n",
    "    return savings_balance, checking_balance"
   ]
  },
  {
   "cell_type": "code",
   "execution_count": 11,
   "metadata": {},
   "outputs": [
    {
     "name": "stdout",
     "output_type": "stream",
     "text": [
      "Withdrawal of 11 from your savings was unsuccessful, please enter amount less than balance.\n"
     ]
    }
   ],
   "source": [
    "checking_balance, savings_balance = make_withdrawal(\"savings\", 11, checking_balance, savings_balance)"
   ]
  },
  {
   "cell_type": "code",
   "execution_count": 12,
   "metadata": {},
   "outputs": [
    {
     "name": "stdout",
     "output_type": "stream",
     "text": [
      "Your savings balance is 200.\n",
      "\n"
     ]
    }
   ],
   "source": [
    "print(check_balance(\"savings\", checking_balance, savings_balance))"
   ]
  },
  {
   "cell_type": "code",
   "execution_count": 13,
   "metadata": {},
   "outputs": [
    {
     "name": "stdout",
     "output_type": "stream",
     "text": [
      "Withdrawal of 170 from your checking was unsuccessful, please enter amount less than balance.\n"
     ]
    }
   ],
   "source": [
    "checking_balance, savings_balance = make_withdrawal(\"checking\", 170, checking_balance, savings_balance)"
   ]
  },
  {
   "cell_type": "code",
   "execution_count": 14,
   "metadata": {},
   "outputs": [
    {
     "name": "stdout",
     "output_type": "stream",
     "text": [
      "Your checking balance is 200.\n",
      "\n"
     ]
    }
   ],
   "source": [
    "print(check_balance(\"checking\", checking_balance, savings_balance))"
   ]
  },
  {
   "cell_type": "code",
   "execution_count": 15,
   "metadata": {},
   "outputs": [],
   "source": [
    "def acc_transfer(acc_from, acc_to, amount, checking_balance, savings_balance):\n",
    "    transaction_status = \"\"\n",
    "    trans_error = \"unsuccessful, please enter amount less than \"\n",
    "    if acc_from == \"savings\" and acc_to == \"checking\":\n",
    "        if amount <= savings_balance:\n",
    "            savings_balance -= amount\n",
    "            checking_balance += amount\n",
    "            transaction_status = \"successful\"\n",
    "            \n",
    "        else:\n",
    "            transaction_status = trans_error + str(savings_balance)\n",
    "            \n",
    "    elif acc_from == \"checking\" and acc_to == \"savings\":\n",
    "        if amount <= checking_balance:\n",
    "            checking_balance -= amount\n",
    "            savings_balance += amount\n",
    "            transaction_status = \"successful\"\n",
    "            \n",
    "        else:\n",
    "            transaction_status = trans_error + str(checking_balance)\n",
    "    else:\n",
    "        transaction_status = acc_err\n",
    "        \n",
    "    transaction_statement = \"Transfer of \"+str(amount)+ \" from your \"+acc_from+ \" to your \" +acc_to+ \" account was \"+transaction_status\n",
    "    print(transaction_statement)\n",
    "    return savings_balance, checking_balance"
   ]
  },
  {
   "cell_type": "code",
   "execution_count": 16,
   "metadata": {},
   "outputs": [
    {
     "name": "stdout",
     "output_type": "stream",
     "text": [
      "Transfer of 40 from your checking to your savings account was successful\n"
     ]
    }
   ],
   "source": [
    "checking_balance, savings_balance = acc_transfer(\"checking\", \"savings\", 40, checking_balance, savings_balance)"
   ]
  },
  {
   "cell_type": "code",
   "execution_count": 17,
   "metadata": {},
   "outputs": [
    {
     "name": "stdout",
     "output_type": "stream",
     "text": [
      "Your checking balance is 50.\n",
      "\n"
     ]
    }
   ],
   "source": [
    "print(check_balance(\"checking\", checking_balance, savings_balance))"
   ]
  },
  {
   "cell_type": "code",
   "execution_count": 18,
   "metadata": {},
   "outputs": [
    {
     "name": "stdout",
     "output_type": "stream",
     "text": [
      "Your savings balance is 160.\n",
      "\n"
     ]
    }
   ],
   "source": [
    "print(check_balance(\"savings\", checking_balance, savings_balance))"
   ]
  },
  {
   "cell_type": "code",
   "execution_count": 19,
   "metadata": {},
   "outputs": [
    {
     "name": "stdout",
     "output_type": "stream",
     "text": [
      "Transfer of 5 from your savings to your checking account was successful\n"
     ]
    }
   ],
   "source": [
    "savings_balance, checking_balance = acc_transfer(\"savings\", \"checking\", 5, checking_balance, savings_balance)"
   ]
  },
  {
   "cell_type": "code",
   "execution_count": 20,
   "metadata": {},
   "outputs": [
    {
     "name": "stdout",
     "output_type": "stream",
     "text": [
      "Your checking balance is 55.\n",
      "\n"
     ]
    }
   ],
   "source": [
    "print(check_balance(\"checking\", checking_balance, savings_balance))"
   ]
  },
  {
   "cell_type": "code",
   "execution_count": 21,
   "metadata": {},
   "outputs": [
    {
     "name": "stdout",
     "output_type": "stream",
     "text": [
      "Your savings balance is 155.\n",
      "\n"
     ]
    }
   ],
   "source": [
    "print(check_balance(\"savings\", checking_balance, savings_balance))"
   ]
  },
  {
   "cell_type": "code",
   "execution_count": null,
   "metadata": {},
   "outputs": [],
   "source": []
  },
  {
   "cell_type": "code",
   "execution_count": null,
   "metadata": {},
   "outputs": [],
   "source": []
  }
 ],
 "metadata": {
  "kernelspec": {
   "display_name": "Python 3",
   "language": "python",
   "name": "python3"
  },
  "language_info": {
   "codemirror_mode": {
    "name": "ipython",
    "version": 3
   },
   "file_extension": ".py",
   "mimetype": "text/x-python",
   "name": "python",
   "nbconvert_exporter": "python",
   "pygments_lexer": "ipython3",
   "version": "3.8.3"
  }
 },
 "nbformat": 4,
 "nbformat_minor": 4
}
